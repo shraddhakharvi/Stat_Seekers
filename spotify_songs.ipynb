{
 "cells": [
  {
   "cell_type": "code",
   "execution_count": 1,
   "id": "68b6de44-4a52-419a-9d79-adfc65fff260",
   "metadata": {},
   "outputs": [],
   "source": [
    "import pandas as pd\n",
    "import numpy as np\n",
    "import matplotlib.pyplot as plt\n",
    "import seaborn as sns "
   ]
  },
  {
   "cell_type": "code",
   "execution_count": 2,
   "id": "77bc354e-3a6d-476d-96bb-9e4fbb98406e",
   "metadata": {},
   "outputs": [],
   "source": [
    "df= pd.read_csv(\"spotify_songs_dataset.csv\")"
   ]
  },
  {
   "cell_type": "code",
   "execution_count": 3,
   "id": "2611d639-ca21-42d3-ae1a-19704991904e",
   "metadata": {},
   "outputs": [
    {
     "data": {
      "text/html": [
       "<div>\n",
       "<style scoped>\n",
       "    .dataframe tbody tr th:only-of-type {\n",
       "        vertical-align: middle;\n",
       "    }\n",
       "\n",
       "    .dataframe tbody tr th {\n",
       "        vertical-align: top;\n",
       "    }\n",
       "\n",
       "    .dataframe thead th {\n",
       "        text-align: right;\n",
       "    }\n",
       "</style>\n",
       "<table border=\"1\" class=\"dataframe\">\n",
       "  <thead>\n",
       "    <tr style=\"text-align: right;\">\n",
       "      <th></th>\n",
       "      <th>song_id</th>\n",
       "      <th>song_title</th>\n",
       "      <th>artist</th>\n",
       "      <th>album</th>\n",
       "      <th>genre</th>\n",
       "      <th>release_date</th>\n",
       "      <th>duration</th>\n",
       "      <th>popularity</th>\n",
       "      <th>stream</th>\n",
       "      <th>language</th>\n",
       "      <th>explicit_content</th>\n",
       "      <th>label</th>\n",
       "      <th>composer</th>\n",
       "      <th>producer</th>\n",
       "      <th>collaboration</th>\n",
       "    </tr>\n",
       "  </thead>\n",
       "  <tbody>\n",
       "    <tr>\n",
       "      <th>0</th>\n",
       "      <td>SP0001</td>\n",
       "      <td>Space executive series.</td>\n",
       "      <td>Sydney Clark</td>\n",
       "      <td>What.</td>\n",
       "      <td>Electronic</td>\n",
       "      <td>1997-11-08</td>\n",
       "      <td>282.0</td>\n",
       "      <td>42</td>\n",
       "      <td>35055874</td>\n",
       "      <td>English</td>\n",
       "      <td>Yes</td>\n",
       "      <td>Def Jam</td>\n",
       "      <td>Amy Hatfield</td>\n",
       "      <td>Jeffrey Weaver</td>\n",
       "      <td>NaN</td>\n",
       "    </tr>\n",
       "    <tr>\n",
       "      <th>1</th>\n",
       "      <td>SP0002</td>\n",
       "      <td>Price last painting.</td>\n",
       "      <td>Connor Peters DDS</td>\n",
       "      <td>Nature politics.</td>\n",
       "      <td>Electronic</td>\n",
       "      <td>2015-05-10</td>\n",
       "      <td>127.0</td>\n",
       "      <td>50</td>\n",
       "      <td>9249527</td>\n",
       "      <td>English</td>\n",
       "      <td>Yes</td>\n",
       "      <td>Universal Music</td>\n",
       "      <td>Jason Gregory</td>\n",
       "      <td>Kenneth White</td>\n",
       "      <td>NaN</td>\n",
       "    </tr>\n",
       "    <tr>\n",
       "      <th>2</th>\n",
       "      <td>SP0003</td>\n",
       "      <td>Piece.</td>\n",
       "      <td>Anna Keith</td>\n",
       "      <td>Visit.</td>\n",
       "      <td>Pop</td>\n",
       "      <td>2024-07-08</td>\n",
       "      <td>NaN</td>\n",
       "      <td>10</td>\n",
       "      <td>76669110</td>\n",
       "      <td>English</td>\n",
       "      <td>Yes</td>\n",
       "      <td>Universal Music</td>\n",
       "      <td>Rachel Lopez</td>\n",
       "      <td>Jason Barnes</td>\n",
       "      <td>NaN</td>\n",
       "    </tr>\n",
       "    <tr>\n",
       "      <th>3</th>\n",
       "      <td>SP0004</td>\n",
       "      <td>Power industry your.</td>\n",
       "      <td>Zachary Simpson</td>\n",
       "      <td>Behavior evening.</td>\n",
       "      <td>Hip-Hop</td>\n",
       "      <td>2022-08-15</td>\n",
       "      <td>214.0</td>\n",
       "      <td>86</td>\n",
       "      <td>34732016</td>\n",
       "      <td>English</td>\n",
       "      <td>No</td>\n",
       "      <td>Sony Music</td>\n",
       "      <td>Thomas Li</td>\n",
       "      <td>Mrs. Becky Palmer</td>\n",
       "      <td>NaN</td>\n",
       "    </tr>\n",
       "    <tr>\n",
       "      <th>4</th>\n",
       "      <td>SP0005</td>\n",
       "      <td>Food animal second.</td>\n",
       "      <td>Christopher Mcgee</td>\n",
       "      <td>Front.</td>\n",
       "      <td>Pop</td>\n",
       "      <td>2023-03-05</td>\n",
       "      <td>273.0</td>\n",
       "      <td>63</td>\n",
       "      <td>96649372</td>\n",
       "      <td>English</td>\n",
       "      <td>Yes</td>\n",
       "      <td>Def Jam</td>\n",
       "      <td>Adam Wagner</td>\n",
       "      <td>Beverly Baker</td>\n",
       "      <td>NaN</td>\n",
       "    </tr>\n",
       "    <tr>\n",
       "      <th>...</th>\n",
       "      <td>...</td>\n",
       "      <td>...</td>\n",
       "      <td>...</td>\n",
       "      <td>...</td>\n",
       "      <td>...</td>\n",
       "      <td>...</td>\n",
       "      <td>...</td>\n",
       "      <td>...</td>\n",
       "      <td>...</td>\n",
       "      <td>...</td>\n",
       "      <td>...</td>\n",
       "      <td>...</td>\n",
       "      <td>...</td>\n",
       "      <td>...</td>\n",
       "      <td>...</td>\n",
       "    </tr>\n",
       "    <tr>\n",
       "      <th>49995</th>\n",
       "      <td>SP49996</td>\n",
       "      <td>Event push do body.</td>\n",
       "      <td>Shelley Robinson</td>\n",
       "      <td>Wrong cup.</td>\n",
       "      <td>Pop</td>\n",
       "      <td>1999-05-26</td>\n",
       "      <td>272.0</td>\n",
       "      <td>38</td>\n",
       "      <td>25078113</td>\n",
       "      <td>Spanish</td>\n",
       "      <td>No</td>\n",
       "      <td>Indie</td>\n",
       "      <td>Melissa Wilson</td>\n",
       "      <td>Leslie Ferguson</td>\n",
       "      <td>Daniel Cruz</td>\n",
       "    </tr>\n",
       "    <tr>\n",
       "      <th>49996</th>\n",
       "      <td>SP49997</td>\n",
       "      <td>Share clearly role.</td>\n",
       "      <td>Jennifer Kennedy</td>\n",
       "      <td>That actually.</td>\n",
       "      <td>Folk</td>\n",
       "      <td>2016-08-21</td>\n",
       "      <td>355.0</td>\n",
       "      <td>62</td>\n",
       "      <td>29908581</td>\n",
       "      <td>Korean</td>\n",
       "      <td>Yes</td>\n",
       "      <td>Atlantic Records</td>\n",
       "      <td>Timothy Rice</td>\n",
       "      <td>Randall Martinez</td>\n",
       "      <td>NaN</td>\n",
       "    </tr>\n",
       "    <tr>\n",
       "      <th>49997</th>\n",
       "      <td>SP49998</td>\n",
       "      <td>Wonder type simply.</td>\n",
       "      <td>Hailey Walsh</td>\n",
       "      <td>South Democrat.</td>\n",
       "      <td>Pop</td>\n",
       "      <td>1997-02-28</td>\n",
       "      <td>207.0</td>\n",
       "      <td>38</td>\n",
       "      <td>75864558</td>\n",
       "      <td>Spanish</td>\n",
       "      <td>No</td>\n",
       "      <td>Atlantic Records</td>\n",
       "      <td>Susan Diaz</td>\n",
       "      <td>Katrina Fleming</td>\n",
       "      <td>NaN</td>\n",
       "    </tr>\n",
       "    <tr>\n",
       "      <th>49998</th>\n",
       "      <td>SP49999</td>\n",
       "      <td>Company.</td>\n",
       "      <td>Leah Coleman</td>\n",
       "      <td>Front.</td>\n",
       "      <td>Electronic</td>\n",
       "      <td>1996-07-15</td>\n",
       "      <td>266.0</td>\n",
       "      <td>10</td>\n",
       "      <td>41817978</td>\n",
       "      <td>English</td>\n",
       "      <td>No</td>\n",
       "      <td>Sony Music</td>\n",
       "      <td>Dr. Zachary Bell</td>\n",
       "      <td>Pam Schultz</td>\n",
       "      <td>NaN</td>\n",
       "    </tr>\n",
       "    <tr>\n",
       "      <th>49999</th>\n",
       "      <td>SP50000</td>\n",
       "      <td>Woman plan.</td>\n",
       "      <td>Daniel Brown</td>\n",
       "      <td>Three.</td>\n",
       "      <td>Pop</td>\n",
       "      <td>2009-01-19</td>\n",
       "      <td>188.0</td>\n",
       "      <td>38</td>\n",
       "      <td>19182847</td>\n",
       "      <td>English</td>\n",
       "      <td>No</td>\n",
       "      <td>Indie</td>\n",
       "      <td>Madeline Williams</td>\n",
       "      <td>Carla Fritz</td>\n",
       "      <td>NaN</td>\n",
       "    </tr>\n",
       "  </tbody>\n",
       "</table>\n",
       "<p>50000 rows × 15 columns</p>\n",
       "</div>"
      ],
      "text/plain": [
       "       song_id               song_title             artist              album  \\\n",
       "0       SP0001  Space executive series.       Sydney Clark              What.   \n",
       "1       SP0002     Price last painting.  Connor Peters DDS   Nature politics.   \n",
       "2       SP0003                   Piece.         Anna Keith             Visit.   \n",
       "3       SP0004     Power industry your.    Zachary Simpson  Behavior evening.   \n",
       "4       SP0005      Food animal second.  Christopher Mcgee             Front.   \n",
       "...        ...                      ...                ...                ...   \n",
       "49995  SP49996      Event push do body.   Shelley Robinson         Wrong cup.   \n",
       "49996  SP49997      Share clearly role.   Jennifer Kennedy     That actually.   \n",
       "49997  SP49998      Wonder type simply.       Hailey Walsh    South Democrat.   \n",
       "49998  SP49999                 Company.       Leah Coleman             Front.   \n",
       "49999  SP50000              Woman plan.       Daniel Brown             Three.   \n",
       "\n",
       "            genre release_date  duration  popularity    stream language  \\\n",
       "0      Electronic   1997-11-08     282.0          42  35055874  English   \n",
       "1      Electronic   2015-05-10     127.0          50   9249527  English   \n",
       "2             Pop   2024-07-08       NaN          10  76669110  English   \n",
       "3         Hip-Hop   2022-08-15     214.0          86  34732016  English   \n",
       "4             Pop   2023-03-05     273.0          63  96649372  English   \n",
       "...           ...          ...       ...         ...       ...      ...   \n",
       "49995         Pop   1999-05-26     272.0          38  25078113  Spanish   \n",
       "49996        Folk   2016-08-21     355.0          62  29908581   Korean   \n",
       "49997         Pop   1997-02-28     207.0          38  75864558  Spanish   \n",
       "49998  Electronic   1996-07-15     266.0          10  41817978  English   \n",
       "49999         Pop   2009-01-19     188.0          38  19182847  English   \n",
       "\n",
       "      explicit_content             label           composer  \\\n",
       "0                  Yes           Def Jam       Amy Hatfield   \n",
       "1                  Yes   Universal Music      Jason Gregory   \n",
       "2                  Yes   Universal Music       Rachel Lopez   \n",
       "3                   No        Sony Music          Thomas Li   \n",
       "4                  Yes           Def Jam        Adam Wagner   \n",
       "...                ...               ...                ...   \n",
       "49995               No             Indie     Melissa Wilson   \n",
       "49996              Yes  Atlantic Records       Timothy Rice   \n",
       "49997               No  Atlantic Records         Susan Diaz   \n",
       "49998               No        Sony Music   Dr. Zachary Bell   \n",
       "49999               No             Indie  Madeline Williams   \n",
       "\n",
       "                producer collaboration  \n",
       "0         Jeffrey Weaver           NaN  \n",
       "1          Kenneth White           NaN  \n",
       "2           Jason Barnes           NaN  \n",
       "3      Mrs. Becky Palmer           NaN  \n",
       "4          Beverly Baker           NaN  \n",
       "...                  ...           ...  \n",
       "49995    Leslie Ferguson   Daniel Cruz  \n",
       "49996   Randall Martinez           NaN  \n",
       "49997    Katrina Fleming           NaN  \n",
       "49998        Pam Schultz           NaN  \n",
       "49999        Carla Fritz           NaN  \n",
       "\n",
       "[50000 rows x 15 columns]"
      ]
     },
     "execution_count": 3,
     "metadata": {},
     "output_type": "execute_result"
    }
   ],
   "source": [
    "df"
   ]
  },
  {
   "cell_type": "code",
   "execution_count": 4,
   "id": "7532289e-bc49-4d0b-8bf9-296ce6710cf7",
   "metadata": {},
   "outputs": [
    {
     "name": "stdout",
     "output_type": "stream",
     "text": [
      "Shape of the dataset: (50000, 15)\n"
     ]
    }
   ],
   "source": [
    "print(\"Shape of the dataset:\",df.shape)"
   ]
  },
  {
   "cell_type": "code",
   "execution_count": 5,
   "id": "25b20465-0da4-456e-bdaf-602c39f0c0aa",
   "metadata": {},
   "outputs": [
    {
     "data": {
      "text/plain": [
       "song_id                 0\n",
       "song_title              0\n",
       "artist                  0\n",
       "album                   0\n",
       "genre                   0\n",
       "release_date            0\n",
       "duration             5000\n",
       "popularity              0\n",
       "stream                  0\n",
       "language             2500\n",
       "explicit_content        0\n",
       "label                   0\n",
       "composer                0\n",
       "producer                0\n",
       "collaboration       35000\n",
       "dtype: int64"
      ]
     },
     "execution_count": 5,
     "metadata": {},
     "output_type": "execute_result"
    }
   ],
   "source": [
    "df.isnull().sum()"
   ]
  },
  {
   "cell_type": "code",
   "execution_count": 6,
   "id": "2c6c1f9e-8389-4f72-8332-9d154e152833",
   "metadata": {},
   "outputs": [
    {
     "name": "stdout",
     "output_type": "stream",
     "text": [
      "<class 'pandas.core.frame.DataFrame'>\n",
      "RangeIndex: 50000 entries, 0 to 49999\n",
      "Data columns (total 15 columns):\n",
      " #   Column            Non-Null Count  Dtype  \n",
      "---  ------            --------------  -----  \n",
      " 0   song_id           50000 non-null  object \n",
      " 1   song_title        50000 non-null  object \n",
      " 2   artist            50000 non-null  object \n",
      " 3   album             50000 non-null  object \n",
      " 4   genre             50000 non-null  object \n",
      " 5   release_date      50000 non-null  object \n",
      " 6   duration          45000 non-null  float64\n",
      " 7   popularity        50000 non-null  int64  \n",
      " 8   stream            50000 non-null  int64  \n",
      " 9   language          47500 non-null  object \n",
      " 10  explicit_content  50000 non-null  object \n",
      " 11  label             50000 non-null  object \n",
      " 12  composer          50000 non-null  object \n",
      " 13  producer          50000 non-null  object \n",
      " 14  collaboration     15000 non-null  object \n",
      "dtypes: float64(1), int64(2), object(12)\n",
      "memory usage: 5.7+ MB\n"
     ]
    }
   ],
   "source": [
    "df.info()"
   ]
  },
  {
   "cell_type": "code",
   "execution_count": 7,
   "id": "ca0ddbfe-eb2a-46cc-857d-b1d6f08eeba0",
   "metadata": {},
   "outputs": [],
   "source": [
    "pd.set_option('display.float_format', '{:,.2f}'.format)\n",
    "df['duration'] = (\n",
    "    df['duration']\n",
    "    .astype(str)                         \n",
    "    .str.replace(',', '', regex=False)   \n",
    "    .pipe(pd.to_numeric, errors='coerce') \n",
    ")\n"
   ]
  },
  {
   "cell_type": "code",
   "execution_count": 8,
   "id": "b204029c-1cff-4436-9bbf-953fd8dda684",
   "metadata": {},
   "outputs": [
    {
     "name": "stderr",
     "output_type": "stream",
     "text": [
      "C:\\Users\\shrad\\AppData\\Local\\Temp\\ipykernel_16488\\3001203772.py:1: FutureWarning: A value is trying to be set on a copy of a DataFrame or Series through chained assignment using an inplace method.\n",
      "The behavior will change in pandas 3.0. This inplace method will never work because the intermediate object on which we are setting values always behaves as a copy.\n",
      "\n",
      "For example, when doing 'df[col].method(value, inplace=True)', try using 'df.method({col: value}, inplace=True)' or df[col] = df[col].method(value) instead, to perform the operation inplace on the original object.\n",
      "\n",
      "\n",
      "  df['duration'].fillna(df['duration'].mean(), inplace=True)\n"
     ]
    }
   ],
   "source": [
    "df['duration'].fillna(df['duration'].mean(), inplace=True)"
   ]
  },
  {
   "cell_type": "code",
   "execution_count": 9,
   "id": "41148387-031a-40ec-a0ba-0c68d79d5ec1",
   "metadata": {},
   "outputs": [
    {
     "name": "stderr",
     "output_type": "stream",
     "text": [
      "C:\\Users\\shrad\\AppData\\Local\\Temp\\ipykernel_16488\\3749911940.py:1: FutureWarning: A value is trying to be set on a copy of a DataFrame or Series through chained assignment using an inplace method.\n",
      "The behavior will change in pandas 3.0. This inplace method will never work because the intermediate object on which we are setting values always behaves as a copy.\n",
      "\n",
      "For example, when doing 'df[col].method(value, inplace=True)', try using 'df.method({col: value}, inplace=True)' or df[col] = df[col].method(value) instead, to perform the operation inplace on the original object.\n",
      "\n",
      "\n",
      "  df['language'].fillna(df['language'].mode()[0], inplace=True)\n"
     ]
    }
   ],
   "source": [
    "df['language'].fillna(df['language'].mode()[0], inplace=True)"
   ]
  },
  {
   "cell_type": "code",
   "execution_count": 10,
   "id": "ff30e2e9-42c4-411f-bbdf-634d61877634",
   "metadata": {},
   "outputs": [],
   "source": [
    "df.drop(columns=['collaboration'], inplace=True)"
   ]
  },
  {
   "cell_type": "code",
   "execution_count": 11,
   "id": "c6aec56b-32b8-4f4d-82c5-bb1dcef8ed69",
   "metadata": {},
   "outputs": [],
   "source": [
    "df['release_date'] = pd.to_datetime(df['release_date'])"
   ]
  },
  {
   "cell_type": "code",
   "execution_count": 12,
   "id": "d7609f5e-bbb1-4005-8b32-c7c3fbb200e8",
   "metadata": {},
   "outputs": [],
   "source": [
    "df['year'] = df['release_date'].dt.year"
   ]
  },
  {
   "cell_type": "code",
   "execution_count": 13,
   "id": "bc950009-2464-453a-b36b-910bc5d5208b",
   "metadata": {},
   "outputs": [],
   "source": [
    "df['duration'] = df['duration'].astype(int)"
   ]
  },
  {
   "cell_type": "code",
   "execution_count": 14,
   "id": "b2d76892-1242-43ea-b8e4-54c29e84fa07",
   "metadata": {},
   "outputs": [
    {
     "data": {
      "text/plain": [
       "song_id                     object\n",
       "song_title                  object\n",
       "artist                      object\n",
       "album                       object\n",
       "genre                       object\n",
       "release_date        datetime64[ns]\n",
       "duration                     int32\n",
       "popularity                   int64\n",
       "stream                       int64\n",
       "language                    object\n",
       "explicit_content            object\n",
       "label                       object\n",
       "composer                    object\n",
       "producer                    object\n",
       "year                         int32\n",
       "dtype: object"
      ]
     },
     "execution_count": 14,
     "metadata": {},
     "output_type": "execute_result"
    }
   ],
   "source": [
    "df.dtypes"
   ]
  },
  {
   "cell_type": "code",
   "execution_count": 15,
   "id": "3ec893f9-38d0-4bc5-897c-ea28baaa9f81",
   "metadata": {},
   "outputs": [],
   "source": [
    "def categorize_popularity(score):\n",
    "    if score >= 80:\n",
    "        return \"Very Popular\"\n",
    "    elif score >= 50:\n",
    "        return \"Popular\"\n",
    "    else:\n",
    "        return \"Less Popular\"\n",
    "\n",
    "df['popularity_category'] = df['popularity'].apply(categorize_popularity)"
   ]
  },
  {
   "cell_type": "code",
   "execution_count": 16,
   "id": "622536c0-fdd3-43a3-b5c5-4d50684a6bfe",
   "metadata": {},
   "outputs": [
    {
     "data": {
      "text/plain": [
       "33"
      ]
     },
     "execution_count": 16,
     "metadata": {},
     "output_type": "execute_result"
    }
   ],
   "source": [
    "df['duration'].min()"
   ]
  },
  {
   "cell_type": "code",
   "execution_count": 17,
   "id": "57bef898-094f-47da-a034-9927ff9e4243",
   "metadata": {},
   "outputs": [],
   "source": [
    "def categorize_duration(seconds):\n",
    "    if seconds < 120:\n",
    "        return \"Short\"\n",
    "    elif 120 <= seconds < 300:\n",
    "        return \"Medium\"\n",
    "    else:\n",
    "        return \"Long\"\n",
    "\n",
    "df['duration_category'] = df['duration'].apply(categorize_duration)\n"
   ]
  },
  {
   "cell_type": "markdown",
   "id": "348bd693-e850-4520-9bd0-4b663aa2b99e",
   "metadata": {},
   "source": [
    "# Histogram of Song Durations"
   ]
  },
  {
   "cell_type": "code",
   "execution_count": 19,
   "id": "94fc171b-589c-4623-814a-12318a99b50d",
   "metadata": {},
   "outputs": [
    {
     "data": {
      "image/png": "[encoded data removed]",
      "text/plain": [
       "<Figure size 1000x500 with 1 Axes>"
      ]
     },
     "metadata": {},
     "output_type": "display_data"
    }
   ],
   "source": [
    "plt.figure(figsize=(10, 5))\n",
    "sns.histplot(df['duration'], bins=30, kde=True, color=\"blue\")\n",
    "plt.xlabel(\"Song Duration (seconds)\")\n",
    "plt.ylabel(\"Frequency\")\n",
    "plt.title(\"Distribution of Song Durations\")\n",
    "plt.show()"
   ]
  },
  {
   "cell_type": "markdown",
   "id": "4bc21883-e702-4047-ba33-0d40af414a9a",
   "metadata": {},
   "source": [
    "# Countplot for Duration Categories"
   ]
  },
  {
   "cell_type": "code",
   "execution_count": 20,
   "id": "edd6bb6f-a6c8-4bfe-8b92-676bf5f8e770",
   "metadata": {},
   "outputs": [
    {
     "data": {
      "image/png": "[encoded data removed]",
      "text/plain": [
       "<Figure size 800x500 with 1 Axes>"
      ]
     },
     "metadata": {},
     "output_type": "display_data"
    }
   ],
   "source": [
    "plt.figure(figsize=(8, 5))\n",
    "sns.countplot(x=df['duration_category'],hue=df['duration_category'], palette=\"viridis\")\n",
    "plt.xlabel(\"Duration Category\")\n",
    "plt.ylabel(\"Count\")\n",
    "plt.title(\"Song Length Categories\")\n",
    "plt.show()\n"
   ]
  },
  {
   "cell_type": "markdown",
   "id": "881ffc00-f273-4f97-a863-7d3cd5d19e8e",
   "metadata": {},
   "source": [
    "# Box Plot of Popularity by Genre"
   ]
  },
  {
   "cell_type": "code",
   "execution_count": 21,
   "id": "60f8729b-dcb0-44fd-a16d-a8c3ee0310db",
   "metadata": {},
   "outputs": [
    {
     "data": {
      "image/png": "[encoded data removed]",
      "text/plain": [
       "<Figure size 800x600 with 1 Axes>"
      ]
     },
     "metadata": {},
     "output_type": "display_data"
    }
   ],
   "source": [
    "plt.figure(figsize=(8, 6))\n",
    "sns.boxplot(x=\"genre\", y=\"popularity\", data=df)\n",
    "plt.xticks(rotation=90)  \n",
    "plt.xlabel(\"Genre\")\n",
    "plt.ylabel(\"Popularity\")\n",
    "plt.title(\"Popularity Distribution by Genre\")\n",
    "plt.show()\n"
   ]
  },
  {
   "cell_type": "code",
   "execution_count": 22,
   "id": "54e702bd-368d-4cc9-a521-27c813e1b5d6",
   "metadata": {},
   "outputs": [],
   "source": [
    "df.to_csv('cleaned_spotify_songs.csv', index=False)"
   ]
  },
  {
   "cell_type": "code",
   "execution_count": null,
   "id": "5873f606-ad76-4872-808e-00f85e3fe098",
   "metadata": {},
   "outputs": [],
   "source": []
  },
  {
   "cell_type": "code",
   "execution_count": 23,
   "id": "75c35d37-b8a8-44d8-b717-15da2d0210c6",
   "metadata": {},
   "outputs": [
    {
     "name": "stdout",
     "output_type": "stream",
     "text": [
      "Requirement already satisfied: sqlalchemy in d:\\anaconda\\lib\\site-packages (2.0.30)\n",
      "Requirement already satisfied: pymysql in d:\\anaconda\\lib\\site-packages (1.1.1)\n",
      "Requirement already satisfied: typing-extensions>=4.6.0 in d:\\anaconda\\lib\\site-packages (from sqlalchemy) (4.11.0)\n",
      "Requirement already satisfied: greenlet!=0.4.17 in d:\\anaconda\\lib\\site-packages (from sqlalchemy) (3.0.1)\n",
      "Note: you may need to restart the kernel to use updated packages.\n"
     ]
    }
   ],
   "source": [
    "pip install sqlalchemy pymysql"
   ]
  },
  {
   "cell_type": "code",
   "execution_count": null,
   "id": "9cb88fdd-1fc2-470b-b211-a191ed0d95c7",
   "metadata": {},
   "outputs": [],
   "source": []
  },
  {
   "cell_type": "code",
   "execution_count": 25,
   "id": "57242c3f-dbb7-44b8-890f-dd0618b010a5",
   "metadata": {},
   "outputs": [
    {
     "name": "stdout",
     "output_type": "stream",
     "text": [
      "Connected to the database successfully.\n",
      "CSV file loaded successfully.\n",
      "Data uploaded successfully.\n"
     ]
    },
    {
     "name": "stderr",
     "output_type": "stream",
     "text": [
      "C:\\Users\\shrad\\AppData\\Local\\Temp\\ipykernel_16488\\1954379355.py:23: UserWarning: The provided table name 'Spotify_songs' is not found exactly as such in the database after writing the table, possibly due to case sensitivity issues. Consider using lower case table names.\n",
      "  accounts_df.to_sql('Spotify_songs', con=engine, if_exists='replace', index=False)\n"
     ]
    }
   ],
   "source": [
    "from sqlalchemy import create_engine\n",
    "import pandas as pd\n",
    "\n",
    "# Replace with your MySQL credentials\n",
    "username = 'root'\n",
    "password = '9380839400%40Ks'\n",
    "host = 'localhost:3306'\n",
    "database = 'Project'\n",
    "\n",
    "# Create the connection URL\n",
    "connection_url = f'mysql+pymysql://{username}:{password}@{host}/{database}'\n",
    "\n",
    "try:\n",
    "    # Create an SQLAlchemy engine\n",
    "    engine = create_engine(connection_url)\n",
    "    print(\"Connected to the database successfully.\")\n",
    "\n",
    "    # Create a DataFrame to upload\n",
    "    accounts_df = pd.read_csv('cleaned_spotify_songs.csv')\n",
    "    print(\"CSV file loaded successfully.\")\n",
    "\n",
    "    # Upload the DataFrame to MySQL\n",
    "    accounts_df.to_sql('Spotify_songs', con=engine, if_exists='replace', index=False)\n",
    "    print(\"Data uploaded successfully.\")\n",
    "\n",
    "except Exception as e:\n",
    "    print(\"An error occurred:\", e)"
   ]
  },
  {
   "cell_type": "code",
   "execution_count": 27,
   "id": "66126529-b3ec-4d76-9658-fdc62fc99b09",
   "metadata": {},
   "outputs": [
    {
     "data": {
      "text/html": [
       "<div>\n",
       "<style scoped>\n",
       "    .dataframe tbody tr th:only-of-type {\n",
       "        vertical-align: middle;\n",
       "    }\n",
       "\n",
       "    .dataframe tbody tr th {\n",
       "        vertical-align: top;\n",
       "    }\n",
       "\n",
       "    .dataframe thead th {\n",
       "        text-align: right;\n",
       "    }\n",
       "</style>\n",
       "<table border=\"1\" class=\"dataframe\">\n",
       "  <thead>\n",
       "    <tr style=\"text-align: right;\">\n",
       "      <th></th>\n",
       "      <th>song_id</th>\n",
       "      <th>song_title</th>\n",
       "      <th>artist</th>\n",
       "      <th>album</th>\n",
       "      <th>genre</th>\n",
       "      <th>release_date</th>\n",
       "      <th>duration</th>\n",
       "      <th>popularity</th>\n",
       "      <th>stream</th>\n",
       "      <th>language</th>\n",
       "      <th>explicit_content</th>\n",
       "      <th>label</th>\n",
       "      <th>composer</th>\n",
       "      <th>producer</th>\n",
       "      <th>year</th>\n",
       "      <th>popularity_category</th>\n",
       "      <th>duration_category</th>\n",
       "    </tr>\n",
       "  </thead>\n",
       "  <tbody>\n",
       "    <tr>\n",
       "      <th>0</th>\n",
       "      <td>SP0001</td>\n",
       "      <td>Space executive series.</td>\n",
       "      <td>Sydney Clark</td>\n",
       "      <td>What.</td>\n",
       "      <td>Electronic</td>\n",
       "      <td>1997-11-08</td>\n",
       "      <td>282</td>\n",
       "      <td>42</td>\n",
       "      <td>35055874</td>\n",
       "      <td>English</td>\n",
       "      <td>Yes</td>\n",
       "      <td>Def Jam</td>\n",
       "      <td>Amy Hatfield</td>\n",
       "      <td>Jeffrey Weaver</td>\n",
       "      <td>1997</td>\n",
       "      <td>Less Popular</td>\n",
       "      <td>Medium</td>\n",
       "    </tr>\n",
       "    <tr>\n",
       "      <th>1</th>\n",
       "      <td>SP0002</td>\n",
       "      <td>Price last painting.</td>\n",
       "      <td>Connor Peters DDS</td>\n",
       "      <td>Nature politics.</td>\n",
       "      <td>Electronic</td>\n",
       "      <td>2015-05-10</td>\n",
       "      <td>127</td>\n",
       "      <td>50</td>\n",
       "      <td>9249527</td>\n",
       "      <td>English</td>\n",
       "      <td>Yes</td>\n",
       "      <td>Universal Music</td>\n",
       "      <td>Jason Gregory</td>\n",
       "      <td>Kenneth White</td>\n",
       "      <td>2015</td>\n",
       "      <td>Popular</td>\n",
       "      <td>Medium</td>\n",
       "    </tr>\n",
       "  </tbody>\n",
       "</table>\n",
       "</div>"
      ],
      "text/plain": [
       "  song_id               song_title             artist             album  \\\n",
       "0  SP0001  Space executive series.       Sydney Clark             What.   \n",
       "1  SP0002     Price last painting.  Connor Peters DDS  Nature politics.   \n",
       "\n",
       "        genre release_date  duration  popularity    stream language  \\\n",
       "0  Electronic   1997-11-08       282          42  35055874  English   \n",
       "1  Electronic   2015-05-10       127          50   9249527  English   \n",
       "\n",
       "  explicit_content            label       composer        producer  year  \\\n",
       "0              Yes          Def Jam   Amy Hatfield  Jeffrey Weaver  1997   \n",
       "1              Yes  Universal Music  Jason Gregory   Kenneth White  2015   \n",
       "\n",
       "  popularity_category duration_category  \n",
       "0        Less Popular            Medium  \n",
       "1             Popular            Medium  "
      ]
     },
     "execution_count": 27,
     "metadata": {},
     "output_type": "execute_result"
    }
   ],
   "source": [
    "df.head(2)"
   ]
  },
  {
   "cell_type": "code",
   "execution_count": 28,
   "id": "2560d321-d00b-4b3d-a4c2-107d32f2d7ef",
   "metadata": {},
   "outputs": [],
   "source": [
    "song_details = df[['song_id', 'song_title', 'artist', 'album', 'release_date']]\n"
   ]
  },
  {
   "cell_type": "code",
   "execution_count": 30,
   "id": "6e4618f0-dfd1-4070-9156-66ca269541a3",
   "metadata": {},
   "outputs": [
    {
     "data": {
      "text/plain": [
       "50000"
      ]
     },
     "execution_count": 30,
     "metadata": {},
     "output_type": "execute_result"
    }
   ],
   "source": [
    "song_details.to_sql(\"song_details\", engine, if_exists=\"replace\", index=False)"
   ]
  },
  {
   "cell_type": "code",
   "execution_count": 31,
   "id": "d9b2b7da-9257-4c62-b493-8275c41bdae4",
   "metadata": {},
   "outputs": [],
   "source": [
    "artist_info = df[['artist', 'genre']]\n",
    "track_metrics = df[['song_id', 'duration', 'popularity', 'language', 'label', 'composer']]"
   ]
  },
  {
   "cell_type": "code",
   "execution_count": 32,
   "id": "582fe07a-1e7f-4b25-9e8d-935164edf6b0",
   "metadata": {},
   "outputs": [
    {
     "data": {
      "text/plain": [
       "50000"
      ]
     },
     "execution_count": 32,
     "metadata": {},
     "output_type": "execute_result"
    }
   ],
   "source": [
    "artist_info.to_sql(\"artist_info\", engine, if_exists=\"replace\", index=False)\n",
    "track_metrics.to_sql(\"track_metrics\", engine, if_exists=\"replace\", index=False)"
   ]
  },
  {
   "cell_type": "code",
   "execution_count": null,
   "id": "c2ce2a15-7fe6-4ba3-8221-9f737b3aee20",
   "metadata": {},
   "outputs": [],
   "source": []
  },
  {
   "cell_type": "code",
   "execution_count": null,
   "id": "a724168e-d800-4608-a58e-d3b9a96f528a",
   "metadata": {},
   "outputs": [],
   "source": []
  }
 ],
 "metadata": {
  "kernelspec": {
   "display_name": "Python 3 (ipykernel)",
   "language": "python",
   "name": "python3"
  },
  "language_info": {
   "codemirror_mode": {
    "name": "ipython",
    "version": 3
   },
   "file_extension": ".py",
   "mimetype": "text/x-python",
   "name": "python",
   "nbconvert_exporter": "python",
   "pygments_lexer": "ipython3",
   "version": "3.12.4"
  }
 },
 "nbformat": 4,
 "nbformat_minor": 5
}
