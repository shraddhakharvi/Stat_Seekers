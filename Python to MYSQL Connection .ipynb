{
 "cells": [
  {
   "cell_type": "code",
   "execution_count": null,
   "id": "491f999f-72d5-4483-8c9f-fa32a5d42f8a",
   "metadata": {},
   "outputs": [],
   "source": [
    "pip install sqlalchemy pymysql"
   ]
  },
  {
   "cell_type": "code",
   "execution_count": null,
   "id": "2fe5e747-2745-4414-8506-fee2fc697ee1",
   "metadata": {},
   "outputs": [],
   "source": [
    "from sqlalchemy import create_engine\n",
    "import pandas as pd\n",
    "\n",
    "# Replace with your MySQL credentials\n",
    "username = 'root'\n",
    "password = 'aniket'\n",
    "host = 'localhost:3306'\n",
    "database = 'project'\n",
    "\n",
    "# Create the connection URL\n",
    "connection_url = f'mysql+pymysql://{username}:{password}@{host}/{database}'\n",
    "\n",
    "try:\n",
    "    # Create an SQLAlchemy engine\n",
    "    engine = create_engine(connection_url)\n",
    "    print(\"Connected to the database successfully.\")\n",
    "\n",
    "    # Create a DataFrame to upload\n",
    "    accounts_df = pd.read_csv('cleaned_spotify_songs.csv')\n",
    "    print(\"CSV file loaded successfully.\")\n",
    "\n",
    "    # Upload the DataFrame to MySQL\n",
    "    accounts_df.to_sql('Spotify_songs', con=engine, if_exists='replace', index=False)\n",
    "    print(\"Data uploaded successfully.\")\n",
    "\n",
    "except Exception as e:\n",
    "    print(\"An error occurred:\", e)"
   ]
  },
  {
   "cell_type": "code",
   "execution_count": null,
   "id": "998112d7-7a2e-4eb9-af8d-a0a3a9477085",
   "metadata": {},
   "outputs": [],
   "source": [
    "df.head(2)"
   ]
  },
  {
   "cell_type": "code",
   "execution_count": null,
   "id": "aa34fcbc-639c-4033-af7f-d05baf49e796",
   "metadata": {},
   "outputs": [],
   "source": [
    "song_details = df[['song_id', 'song_title', 'artist', 'album', 'release_date']]\n"
   ]
  },
  {
   "cell_type": "code",
   "execution_count": null,
   "id": "9e0c2872-47f9-4458-921c-9eec6b22f4ce",
   "metadata": {},
   "outputs": [],
   "source": [
    "song_details.to_sql(\"song_details\", engine, if_exists=\"replace\", index=False)"
   ]
  },
  {
   "cell_type": "code",
   "execution_count": null,
   "id": "334425fc-795f-4a35-b33a-64d3a7bfbd36",
   "metadata": {},
   "outputs": [],
   "source": [
    "artist_info.to_sql(\"artist_info\", engine, if_exists=\"replace\", index=False)\n",
    "track_metrics.to_sql(\"track_metrics\", engine, if_exists=\"replace\", index=False)"
   ]
  },
  {
   "cell_type": "code",
   "execution_count": null,
   "id": "6bb84439-72b3-4913-912b-a8dc4cc8ecfa",
   "metadata": {},
   "outputs": [],
   "source": [
    "artist_info = df[['artist', 'genre']]\n",
    "track_metrics = df[['song_id', 'duration', 'popularity', 'language', 'label', 'composer']]"
   ]
  }
 ],
 "metadata": {
  "kernelspec": {
   "display_name": "Python 3 (ipykernel)",
   "language": "python",
   "name": "python3"
  },
  "language_info": {
   "codemirror_mode": {
    "name": "ipython",
    "version": 3
   },
   "file_extension": ".py",
   "mimetype": "text/x-python",
   "name": "python",
   "nbconvert_exporter": "python",
   "pygments_lexer": "ipython3",
   "version": "3.12.7"
  }
 },
 "nbformat": 4,
 "nbformat_minor": 5
}
